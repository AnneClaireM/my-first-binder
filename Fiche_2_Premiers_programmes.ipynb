{
  "nbformat": 4,
  "nbformat_minor": 0,
  "metadata": {
    "colab": {
      "name": "Fiche_2_Premiers_programmes.ipynb",
      "provenance": []
    },
    "kernelspec": {
      "name": "python3",
      "display_name": "Python 3"
    }
  },
  "cells": [
    {
      "cell_type": "markdown",
      "metadata": {
        "id": "cnlNyMtmqE3a",
        "colab_type": "text"
      },
      "source": [
        "**Fiche n°2 : Premiers programmes**\n",
        "\n",
        "\n",
        "\n"
      ]
    },
    {
      "cell_type": "markdown",
      "metadata": {
        "id": "hn8gVpDaqtO6",
        "colab_type": "text"
      },
      "source": [
        "Exemple 1 : "
      ]
    },
    {
      "cell_type": "code",
      "metadata": {
        "id": "A9WO3MM8qjIW",
        "colab_type": "code",
        "colab": {}
      },
      "source": [
        "a=0\n",
        "b=1\n",
        "a=a+b\n",
        "b=a*b\n",
        "a=a-2\n",
        "print(a,b)"
      ],
      "execution_count": null,
      "outputs": []
    },
    {
      "cell_type": "markdown",
      "metadata": {
        "id": "6AUdexAPqx73",
        "colab_type": "text"
      },
      "source": [
        "Exemple 2 : "
      ]
    },
    {
      "cell_type": "code",
      "metadata": {
        "id": "67dsYIAKq0Eu",
        "colab_type": "code",
        "colab": {}
      },
      "source": [
        "a = eval(input(\"a=\"))\n",
        "b = eval(input(\"b=\"))\n",
        "if a < b:\n",
        "    print(b)\n",
        "else:\n",
        "    print(a)"
      ],
      "execution_count": null,
      "outputs": []
    },
    {
      "cell_type": "markdown",
      "metadata": {
        "id": "9w2-5s-OrCNr",
        "colab_type": "text"
      },
      "source": [
        "Exemple 3 :"
      ]
    },
    {
      "cell_type": "code",
      "metadata": {
        "id": "rX0_8Gh0rDzw",
        "colab_type": "code",
        "colab": {}
      },
      "source": [
        "a = eval(input(\"a=\"))\n",
        "b = eval(input(\"b=\"))\n",
        "while b<=a:\n",
        "    a=a-b\n",
        "print(a)"
      ],
      "execution_count": null,
      "outputs": []
    },
    {
      "cell_type": "markdown",
      "metadata": {
        "id": "bePFRFVVrIeY",
        "colab_type": "text"
      },
      "source": [
        "Compléter le programme ci-dessous :"
      ]
    },
    {
      "cell_type": "code",
      "metadata": {
        "id": "q9LW-695rNhm",
        "colab_type": "code",
        "colab": {}
      },
      "source": [
        "a=0\n",
        "b=1\n",
        "a=a+b\n",
        "b=a+2*b\n",
        "print(a,b)"
      ],
      "execution_count": null,
      "outputs": []
    }
  ]
}